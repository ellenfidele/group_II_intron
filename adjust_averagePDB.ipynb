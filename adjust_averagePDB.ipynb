{
 "cells": [
  {
   "cell_type": "code",
   "execution_count": 4,
   "metadata": {},
   "outputs": [],
   "source": [
    "import numpy as np\n",
    "import argparse"
   ]
  },
  {
   "cell_type": "code",
   "execution_count": 5,
   "metadata": {},
   "outputs": [],
   "source": [
    "parser = argparse.ArgumentParser(description='Adjust residue indices in PDB files of average structures of group II intron (both iso and full)')\n",
    "parser.add_argument('--iso_input', type=str, help='input file name of group II intron D1 iso')\n",
    "parser.add_argument('--iso_output', type=str, help='output file name of group II intron D1 iso')\n",
    "parser.add_argument('--full_input', type=str, help='input file name of group II intron D1 from full structure')\n",
    "parser.add_argument('--full_output', type=str, help='output file name of group II intron D1 from full structure')\n",
    "\n",
    "args = parser.parse_args(['--iso_input=average.D1_iso.no_Ion.pdb','--iso_output=average.iso_adjusted.pdb', '--full_input=average.D1_isofromfull.no_Ion.pdb', '--full_output=average.full_adjusted.gro'])"
   ]
  },
  {
   "cell_type": "code",
   "execution_count": 6,
   "metadata": {},
   "outputs": [],
   "source": [
    "iso_in = args.iso_input\n",
    "iso_out = args.iso_output\n",
    "s = [-4, 1, 2, 7, 9, 12]\n",
    "\n",
    "full_in = args.full_input\n",
    "full_out = args.full_output"
   ]
  },
  {
   "cell_type": "code",
   "execution_count": 12,
   "metadata": {},
   "outputs": [],
   "source": [
    "with open(iso_in, 'r') as fin:\n",
    "    fot = open(iso_out, 'w')\n",
    "    resid = 0;\n",
    "    \n",
    "    for line in fin:\n",
    "        if not line.startswith('ATOM'):\n",
    "            continue\n",
    "        entries = line.strip().split()\n",
    "\n",
    "#         print(line)\n",
    "        \n",
    "        resid = int(entries[4])\n",
    "        if resid < 5:\n",
    "            fot.write(line.replace(\"   %d   \" %resid, \"   %d   \" %(resid+s[0])))\n",
    "        elif resid < 82:\n",
    "            fot.write(line.replace(\"   %d   \" %resid, \"   %d   \" %(resid+s[1])))\n",
    "        elif resid < 101:\n",
    "            fot.write(line.replace(\"   %d   \" %resid, \"   %d   \" %(resid+s[2])))\n",
    "        elif resid < 200:\n",
    "            fot.write(line.replace(\"   %d   \" %resid, \"   %d   \" %(resid+s[3])))\n",
    "        elif resid < 226:\n",
    "            fot.write(line.replace(\"   %d   \" %resid, \"   %d   \" %(resid+s[4])))\n",
    "        else:\n",
    "            fot.write(line.replace(\"   %d   \" %resid, \"   %d   \" %(resid+s[5])))\n"
   ]
  },
  {
   "cell_type": "code",
   "execution_count": 14,
   "metadata": {},
   "outputs": [],
   "source": [
    "with open(full_in, 'r') as f_in:\n",
    "    f_out = open(full_out, 'w')\n",
    "    resid = 0;\n",
    "    \n",
    "    for line in f_in:\n",
    "        if not line.startswith('ATOM'):\n",
    "            continue\n",
    "            \n",
    "        entries = line.strip().split()\n",
    "        resid = int(entries[4])\n",
    "        f_out.write(line.replace(\"   %d   \" %resid, \"   %d   \" %(resid-5)))"
   ]
  },
  {
   "cell_type": "code",
   "execution_count": null,
   "metadata": {
    "collapsed": true,
    "jupyter": {
     "outputs_hidden": true
    }
   },
   "outputs": [],
   "source": []
  }
 ],
 "metadata": {
  "kernelspec": {
   "display_name": "Python 3",
   "language": "python",
   "name": "python3"
  },
  "language_info": {
   "codemirror_mode": {
    "name": "ipython",
    "version": 3
   },
   "file_extension": ".py",
   "mimetype": "text/x-python",
   "name": "python",
   "nbconvert_exporter": "python",
   "pygments_lexer": "ipython3",
   "version": "3.7.6"
  }
 },
 "nbformat": 4,
 "nbformat_minor": 4
}
