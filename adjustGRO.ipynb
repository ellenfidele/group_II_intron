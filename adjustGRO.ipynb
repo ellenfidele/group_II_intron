{
 "cells": [
  {
   "cell_type": "code",
   "execution_count": 21,
   "metadata": {},
   "outputs": [],
   "source": [
    "import numpy as np\n",
    "import re\n",
    "import argparse"
   ]
  },
  {
   "cell_type": "code",
   "execution_count": 22,
   "metadata": {},
   "outputs": [],
   "source": [
    "parser = argparse.ArgumentParser(description='Adjust residue indices in trajectory gro files of group II intron (both iso and full)')\n",
    "parser.add_argument('--iso_input', type=str, help='input file name of group II intron D1 iso')\n",
    "parser.add_argument('--iso_output', type=str, help='output file name of group II intron D1 iso')\n",
    "parser.add_argument('--full_input', type=str, help='input file name of group II intron D1 from full structure')\n",
    "parser.add_argument('--full_output', type=str, help='output file name of group II intron D1 from full structure')\n",
    "\n",
    "args = parser.parse_args(['--iso_input=D1_iso_noIon.part20.gro','--iso_output=iso_adjusted.gro', '--full_input=D1_isofromfull_noIon.part17.gro', '--full_output=full_adjusted.gro'])"
   ]
  },
  {
   "cell_type": "code",
   "execution_count": 23,
   "metadata": {},
   "outputs": [],
   "source": [
    "def separate_string(s):\n",
    "    m = re.search('^[0-9]+', s)\n",
    "    if m:\n",
    "        return(s[m.start():m.end()])"
   ]
  },
  {
   "cell_type": "code",
   "execution_count": 24,
   "metadata": {},
   "outputs": [],
   "source": [
    "iso_in = args.iso_input\n",
    "iso_out = args.iso_output\n",
    "s = [-4, 1, 2, 7, 9, 12]\n",
    "\n",
    "full_in = args.full_input\n",
    "full_out = args.full_output"
   ]
  },
  {
   "cell_type": "code",
   "execution_count": 25,
   "metadata": {},
   "outputs": [
    {
     "name": "stdout",
     "output_type": "stream",
     "text": [
      "100\n",
      "200\n",
      "300\n"
     ]
    }
   ],
   "source": [
    "with open(iso_in, 'r') as fin:\n",
    "    fot = open(iso_out, 'w')\n",
    "    resid = 0\n",
    "    frame = 0\n",
    "    \n",
    "    for line in fin:\n",
    "        entries = line.strip().split()\n",
    "        if len(entries) == 6:\n",
    "            resid = int(separate_string(entries[0]))\n",
    "            if resid < 5:\n",
    "                fot.write(line.replace(\"  %d\" %resid, \"  %d\" %(resid+s[0]), 1))\n",
    "            elif resid < 82:\n",
    "                fot.write(line.replace(\"  %d\" %resid, \"  %d\" %(resid+s[1]), 1))\n",
    "            elif resid < 101:\n",
    "                fot.write(line.replace(\"  %d\" %resid, \"  %d\" %(resid+s[2]), 1))\n",
    "            elif resid < 200:\n",
    "                fot.write(line.replace(\"  %d\" %resid, \"  %d\" %(resid+s[3]), 1))\n",
    "            elif resid < 226:\n",
    "                fot.write(line.replace(\"  %d\" %resid, \"  %d\" %(resid+s[4]), 1))\n",
    "            else:\n",
    "                fot.write(line.replace(\"  %d\" %resid, \"  %d\" %(resid+s[5]), 1))\n",
    "        elif entries[0] == \"Generated\":\n",
    "            fot.write(line)\n",
    "            frame +=1;\n",
    "            if frame % 100 == 0:\n",
    "                print('%d' %frame)\n",
    "        else:\n",
    "            fot.write(line)\n",
    "            "
   ]
  },
  {
   "cell_type": "code",
   "execution_count": 27,
   "metadata": {},
   "outputs": [
    {
     "name": "stdout",
     "output_type": "stream",
     "text": [
      "100\n",
      "200\n",
      "300\n"
     ]
    }
   ],
   "source": [
    "with open(full_in, 'r') as f_in:\n",
    "    f_out = open(full_out, 'w')\n",
    "    resid = 0;\n",
    "    frame_full = 0\n",
    "    \n",
    "    for line in f_in:\n",
    "        entries = line.strip().split()\n",
    "        if len(entries) == 6:\n",
    "            resid = int(separate_string(entries[0]))\n",
    "            f_out.write(line.replace(\"  %d\" %resid, \"  %d\" %(resid-5), 1))\n",
    "        elif entries[0] == \"Generated\":\n",
    "            f_out.write(line)\n",
    "            frame_full +=1;\n",
    "            if frame_full % 100 == 0:\n",
    "                print('%d' %frame_full)\n",
    "        else:\n",
    "            f_out.write(line)"
   ]
  },
  {
   "cell_type": "code",
   "execution_count": 17,
   "metadata": {
    "collapsed": true,
    "jupyter": {
     "outputs_hidden": true
    }
   },
   "outputs": [],
   "source": [
    "with open(iso_in, 'r') as fin:\n",
    "    fot = open(iso_out, 'w')\n",
    "    resid = 0\n",
    "    ain = 0\n",
    "    in_frame = False\n",
    "    no_frame = 0\n",
    "    \n",
    "    for line in fin:\n",
    "#         print(line)\n",
    "        entries = line.strip().split();\n",
    "        if no_frame > 1:\n",
    "            break\n",
    "        if entries[0] == \"Generated\":\n",
    "            frame = []\n",
    "            continue\n",
    "        elif len(entries) == 1:\n",
    "            ain = entries[0]\n",
    "            continue\n",
    "        elif len(entries) == 6:\n",
    "            in_frame = True\n",
    "            if ain:\n",
    "                frame.append(line)\n",
    "            else:\n",
    "                continue\n",
    "        elif len(entries) == 3:\n",
    "            no_frame += 1\n",
    "            ain = 0\n",
    "            continue"
   ]
  },
  {
   "cell_type": "code",
   "execution_count": null,
   "metadata": {
    "collapsed": true,
    "jupyter": {
     "outputs_hidden": true
    }
   },
   "outputs": [],
   "source": []
  }
 ],
 "metadata": {
  "kernelspec": {
   "display_name": "Python 3",
   "language": "python",
   "name": "python3"
  },
  "language_info": {
   "codemirror_mode": {
    "name": "ipython",
    "version": 3
   },
   "file_extension": ".py",
   "mimetype": "text/x-python",
   "name": "python",
   "nbconvert_exporter": "python",
   "pygments_lexer": "ipython3",
   "version": "3.7.6"
  }
 },
 "nbformat": 4,
 "nbformat_minor": 4
}
