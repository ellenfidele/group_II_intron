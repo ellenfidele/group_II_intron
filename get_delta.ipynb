{
 "cells": [
  {
   "cell_type": "code",
   "execution_count": 1,
   "metadata": {},
   "outputs": [],
   "source": [
    "import numpy as np\n",
    "import math\n",
    "import matplotlib.pyplot as plt\n",
    "%matplotlib inline"
   ]
  },
  {
   "cell_type": "code",
   "execution_count": 2,
   "metadata": {},
   "outputs": [],
   "source": [
    "iso_fn = \"average.iso_adjusted.pdb\"\n",
    "full_fn = \"average.full_adjusted.gro\"\n",
    "out_fn = \"delta.dat\""
   ]
  },
  {
   "cell_type": "code",
   "execution_count": 3,
   "metadata": {},
   "outputs": [],
   "source": [
    "iso_P = [];\n",
    "iso_C4 = [];\n",
    "full_P = [];\n",
    "full_C4 = [];"
   ]
  },
  {
   "cell_type": "code",
   "execution_count": 4,
   "metadata": {},
   "outputs": [],
   "source": [
    "def get_coords(filename, P_list, C4_list):\n",
    "    with open(filename, 'r') as fin:\n",
    "        for line in fin:\n",
    "            entries = line.strip().split();\n",
    "            resid = int(entries[4]);\n",
    "            atomname = entries[2];\n",
    "            coords = [float(entries[5]), float(entries[6]), float(entries[7])];\n",
    "            if atomname == \"P\":\n",
    "                P_list.append([resid, coords]);\n",
    "            elif atomname == \"C4*\":\n",
    "                C4_list.append([resid, coords]);\n",
    "#         return P_list, C4_list"
   ]
  },
  {
   "cell_type": "code",
   "execution_count": 5,
   "metadata": {},
   "outputs": [],
   "source": [
    "def dihedral(P_0, P_1, P_2, P_3):\n",
    "    p0 = np.array([float(P_0[0]), float(P_0[1]), float(P_0[2])]);\n",
    "    p1 = np.array([float(P_1[0]), float(P_1[1]), float(P_1[2])]);\n",
    "    p2 = np.array([float(P_2[0]), float(P_2[1]), float(P_2[2])]);\n",
    "    p3 = np.array([float(P_3[0]), float(P_3[1]), float(P_3[2])]);\n",
    "    \n",
    "    b0 = -1*(p1 - p0);\n",
    "    b1 = p2 - p1;\n",
    "    b2 = p3 - p2;\n",
    "    \n",
    "    b0xb1 = np.cross(b0, b1);\n",
    "    b1xb2 = np.cross(b2, b1);\n",
    "    \n",
    "    b0xb1_x_b1xb2 = np.cross(b0xb1, b1xb2);\n",
    "    \n",
    "    y = np.dot(b0xb1_x_b1xb2, b1)*(1.0/np.linalg.norm(b1));\n",
    "    x = np.dot(b0xb1, b1xb2);\n",
    "    \n",
    "    return np.degrees(np.arctan2(y, x))"
   ]
  },
  {
   "cell_type": "code",
   "execution_count": 6,
   "metadata": {},
   "outputs": [],
   "source": [
    "def theta(dic_C4, dic_P, theta_dic):\n",
    "    for i in dic_P:\n",
    "        if ((int(i)-1) in dic_C4 and i in dic_C4 and (int(i)+1) in dic_P):\n",
    "            theta_dic[i] = dihedral(dic_C4[int(i)-1], dic_P[i], dic_C4[i], dic_P[int(i)+1]);\n",
    "        else:\n",
    "            continue"
   ]
  },
  {
   "cell_type": "code",
   "execution_count": 7,
   "metadata": {},
   "outputs": [],
   "source": [
    "def eta(dic_C4, dic_P, eta_dic):\n",
    "    for i in dic_P:\n",
    "        if (i in dic_C4 and (int(i)+1) in dic_C4 and (int(i)+1) in dic_P):\n",
    "            eta_dic[i] = dihedral(dic_P[i], dic_C4[i], dic_P[int(i)+1], dic_C4[int(i)+1]);\n",
    "        else:\n",
    "            continue"
   ]
  },
  {
   "cell_type": "code",
   "execution_count": 8,
   "metadata": {},
   "outputs": [],
   "source": [
    "def delta_sq(iso, full):\n",
    "    delta_sq_dic = {}\n",
    "    for i in iso.keys():\n",
    "        find = False\n",
    "        if i in full.keys():\n",
    "            find = True\n",
    "        if find:\n",
    "            delta_t = np.abs(iso[i]-full[i])\n",
    "        if delta_t > 180:\n",
    "            delta_2 = (360 - delta_t)**2\n",
    "        else:\n",
    "            delta_2 = delta_t**2\n",
    "        delta_sq_dic[i] = delta_2\n",
    "    return delta_sq_dic"
   ]
  },
  {
   "cell_type": "code",
   "execution_count": 9,
   "metadata": {},
   "outputs": [],
   "source": [
    "get_coords(iso_fn, iso_P, iso_C4)\n",
    "get_coords(full_fn, full_P, full_C4)"
   ]
  },
  {
   "cell_type": "code",
   "execution_count": 10,
   "metadata": {},
   "outputs": [],
   "source": [
    "iso_P_dic = {iso_P[i][0]:iso_P[i][1] for i in range(len(iso_P))}\n",
    "iso_C4_dic = {iso_C4[i][0]:iso_C4[i][1] for i in range(len(iso_C4))}\n",
    "full_P_dic = {full_P[i][0]:full_P[i][1] for i in range(len(full_P))}\n",
    "full_C4_dic = {full_C4[i][0]:full_C4[i][1] for i in range(len(full_C4))}"
   ]
  },
  {
   "cell_type": "code",
   "execution_count": 11,
   "metadata": {},
   "outputs": [],
   "source": [
    "iso_theta_dic = {};\n",
    "iso_eta_dic = {};\n",
    "full_theta_dic = {};\n",
    "full_eta_dic = {};"
   ]
  },
  {
   "cell_type": "code",
   "execution_count": 12,
   "metadata": {},
   "outputs": [],
   "source": [
    "theta(iso_C4_dic, iso_P_dic, iso_theta_dic)\n",
    "eta(iso_C4_dic, iso_P_dic, iso_eta_dic)\n",
    "theta(full_C4_dic, full_P_dic, full_theta_dic)\n",
    "eta(full_C4_dic, full_P_dic, full_eta_dic)"
   ]
  },
  {
   "cell_type": "code",
   "execution_count": 13,
   "metadata": {},
   "outputs": [],
   "source": [
    "delta_theta_dic = delta_sq(iso_theta_dic, full_theta_dic)\n",
    "delta_eta_dic = delta_sq(iso_eta_dic, full_eta_dic)"
   ]
  },
  {
   "cell_type": "code",
   "execution_count": 14,
   "metadata": {},
   "outputs": [],
   "source": [
    "delta = {}\n",
    "for i in delta_theta_dic:\n",
    "    if i in delta_eta_dic:\n",
    "        delta[i] = np.sqrt(delta_theta_dic[i]+delta_eta_dic[i])"
   ]
  },
  {
   "cell_type": "code",
   "execution_count": 15,
   "metadata": {},
   "outputs": [
    {
     "data": {
      "image/png": "[encoded data removed]",
      "text/plain": [
       "<Figure size 2160x720 with 1 Axes>"
      ]
     },
     "metadata": {
      "needs_background": "light"
     },
     "output_type": "display_data"
    }
   ],
   "source": [
    "fig = plt.figure(figsize = (30, 10))\n",
    "ax = fig.add_subplot(111)\n",
    "for i in delta:\n",
    "    if i < 266:\n",
    "        if delta[i] > 70:\n",
    "            plt.bar(i, delta[i], color = \"lightblue\", label = 'large')\n",
    "            ax.annotate('%d' %i, xy = (i, delta[i]), xytext = (i-1, delta[i]+5) )\n",
    "        else:\n",
    "            plt.bar(i, delta[i], color = \"lightgreen\", label = \"small\")\n",
    "    else:\n",
    "        continue\n",
    "# plt.legend(loc = 'upper right')\n",
    "plt.xlabel('residue index', size = 'x-large')\n",
    "plt.ylabel('$\\Delta(\\eta, \\\\theta )$', size = 'x-large')\n",
    "plt.xlim([0,266])\n",
    "plt.savefig('delta_plot.png', dpi = 100)"
   ]
  },
  {
   "cell_type": "code",
   "execution_count": null,
   "metadata": {
    "collapsed": true,
    "jupyter": {
     "outputs_hidden": true
    }
   },
   "outputs": [],
   "source": []
  }
 ],
 "metadata": {
  "kernelspec": {
   "display_name": "Python 3",
   "language": "python",
   "name": "python3"
  },
  "language_info": {
   "codemirror_mode": {
    "name": "ipython",
    "version": 3
   },
   "file_extension": ".py",
   "mimetype": "text/x-python",
   "name": "python",
   "nbconvert_exporter": "python",
   "pygments_lexer": "ipython3",
   "version": "3.7.6"
  }
 },
 "nbformat": 4,
 "nbformat_minor": 4
}
