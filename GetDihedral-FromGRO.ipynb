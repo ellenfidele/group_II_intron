{
 "cells": [
  {
   "cell_type": "code",
   "execution_count": 13,
   "metadata": {},
   "outputs": [],
   "source": [
    "import numpy as np\n",
    "import math\n",
    "import matplotlib.pyplot as plt\n",
    "import re\n",
    "import json\n",
    "import argparse"
   ]
  },
  {
   "cell_type": "code",
   "execution_count": 14,
   "metadata": {},
   "outputs": [],
   "source": [
    "\n",
    "parser = argparse.ArgumentParser(description='calculate the theta and eta pseududihedral angels for group II intron (both iso and full)')\n",
    "parser.add_argument('--iso_input', type=str, help='input trajectory of group II intron D1 iso ')\n",
    "parser.add_argument('--full_input', type=str, help='input trajetory of group II intron D1 from full structure')\n",
    "args = parser.parse_args(['--iso_input=iso_adjusted.gro', '--full_input=full_adjusted.gro'])\n",
    "\n",
    "iso_fn = args.iso_input\n",
    "full_fn = args.full_input"
   ]
  },
  {
   "cell_type": "code",
   "execution_count": 15,
   "metadata": {},
   "outputs": [],
   "source": [
    "def separate_string(s):\n",
    "    m = re.search('^[\\+\\-]?[0-9]+', s)\n",
    "    if m:\n",
    "        return(s[m.start():m.end()])"
   ]
  },
  {
   "cell_type": "code",
   "execution_count": 16,
   "metadata": {},
   "outputs": [],
   "source": [
    "def get_coords(frame, P_list, C4_list):\n",
    "        for line in frame:\n",
    "            entries = line.strip().split()\n",
    "#             print(separate_string(entries[0]))\n",
    "            resid = int(separate_string(entries[0]))\n",
    "            atomname = entries[1];\n",
    "            coords = [float(entries[3]), float(entries[4]), float(entries[5])]\n",
    "            if atomname == \"P\":\n",
    "                P_list.append([resid, coords])\n",
    "            elif atomname == \"C4*\":\n",
    "                C4_list.append([resid, coords])\n",
    "#         return P_list, C4_list"
   ]
  },
  {
   "cell_type": "code",
   "execution_count": 17,
   "metadata": {},
   "outputs": [],
   "source": [
    "def dihedral(P_0, P_1, P_2, P_3):\n",
    "    p0 = np.array([float(P_0[0]), float(P_0[1]), float(P_0[2])]);\n",
    "    p1 = np.array([float(P_1[0]), float(P_1[1]), float(P_1[2])]);\n",
    "    p2 = np.array([float(P_2[0]), float(P_2[1]), float(P_2[2])]);\n",
    "    p3 = np.array([float(P_3[0]), float(P_3[1]), float(P_3[2])]);\n",
    "    \n",
    "    b0 = -1*(p1 - p0);\n",
    "    b1 = p2 - p1;\n",
    "    b2 = p3 - p2;\n",
    "    \n",
    "    b0xb1 = np.cross(b0, b1);\n",
    "    b1xb2 = np.cross(b2, b1);\n",
    "    \n",
    "    b0xb1_x_b1xb2 = np.cross(b0xb1, b1xb2);\n",
    "    \n",
    "    y = np.dot(b0xb1_x_b1xb2, b1)*(1.0/np.linalg.norm(b1));\n",
    "    x = np.dot(b0xb1, b1xb2);\n",
    "    \n",
    "    dih = np.degrees(np.arctan2(y, x))\n",
    "    \n",
    "    if dih < 0:\n",
    "        return 360+dih\n",
    "    else:\n",
    "        return dih"
   ]
  },
  {
   "cell_type": "code",
   "execution_count": 18,
   "metadata": {},
   "outputs": [],
   "source": [
    "def theta(dic_C4, dic_P, theta_dic):\n",
    "    for i in dic_P:\n",
    "        if ((int(i)-1) in dic_C4 and i in dic_C4 and (int(i)+1) in dic_P):\n",
    "            theta_dic.setdefault(i, []).append(dihedral(dic_C4[int(i)-1], dic_P[i], dic_C4[i], dic_P[int(i)+1]));\n",
    "        else:\n",
    "            continue"
   ]
  },
  {
   "cell_type": "code",
   "execution_count": 19,
   "metadata": {},
   "outputs": [],
   "source": [
    "def eta(dic_C4, dic_P, eta_dic):\n",
    "    for i in dic_P:\n",
    "        if (i in dic_C4 and (int(i)+1) in dic_C4 and (int(i)+1) in dic_P):\n",
    "            eta_dic.setdefault(i, []).append(dihedral(dic_P[i], dic_C4[i], dic_P[int(i)+1], dic_C4[int(i)+1]));\n",
    "        else:\n",
    "            continue"
   ]
  },
  {
   "cell_type": "code",
   "execution_count": 20,
   "metadata": {},
   "outputs": [],
   "source": [
    "def delta_sq(iso, full):\n",
    "    delta_sq_dic = {}\n",
    "    for i in iso.keys():\n",
    "        find = False\n",
    "        if i in full.keys():\n",
    "            find = True\n",
    "        if find:\n",
    "            delta_t = np.abs(iso[i]-full[i])\n",
    "        if delta_t > 180:\n",
    "            delta_2 = (360 - delta_t)**2\n",
    "        else:\n",
    "            delta_2 = delta_t**2\n",
    "        delta_sq_dic[i] = delta_2\n",
    "    return delta_sq_dic"
   ]
  },
  {
   "cell_type": "code",
   "execution_count": 21,
   "metadata": {},
   "outputs": [],
   "source": [
    "def analyze_frame(frame, theta_val, eta_val):\n",
    "    input_P = []\n",
    "    input_C4 = []\n",
    "    input_theta_dic = {}\n",
    "    input_eta_dic = {}\n",
    "    \n",
    "    get_coords(frame, input_P, input_C4)\n",
    "    \n",
    "    input_P_dic = {input_P[i][0]:input_P[i][1] for i in range(len(input_P))}\n",
    "    input_C4_dic = {input_C4[i][0]:input_C4[i][1] for i in range(len(input_C4))}\n",
    "    \n",
    "    theta(input_C4_dic, input_P_dic, theta_val)\n",
    "    eta(input_C4_dic, input_P_dic, eta_val)"
   ]
  },
  {
   "cell_type": "code",
   "execution_count": 22,
   "metadata": {},
   "outputs": [],
   "source": [
    "def read_frame(filename, theta_out, eta_out):\n",
    "    with open(filename, 'r') as file_in:\n",
    "        in_frame = False\n",
    "        num_frame = 0\n",
    "        \n",
    "        for line in file_in:\n",
    "            entries = line.strip().split()\n",
    "            if num_frame > 10000:\n",
    "                break\n",
    "            if entries[0] == \"Generated\":\n",
    "                frame = []\n",
    "                theta_frame = {}\n",
    "                eta_frame = {}\n",
    "                num_frame += 1\n",
    "                if num_frame > 999 and num_frame % 1000 == 0:\n",
    "                    print(num_frame)\n",
    "                continue\n",
    "            elif len(entries) == 6:\n",
    "                frame.append(line)\n",
    "            elif len(entries) == 3:\n",
    "                analyze_frame(frame, theta_out, eta_out)\n",
    "    return theta_out\n",
    "    return eta_out"
   ]
  },
  {
   "cell_type": "code",
   "execution_count": 23,
   "metadata": {},
   "outputs": [],
   "source": [
    "def wrtie_dic_to_file(dic, filenm):\n",
    "    with open(filenm, 'w') as fo:\n",
    "        fo.write(json.dumps(dic))"
   ]
  },
  {
   "cell_type": "code",
   "execution_count": 24,
   "metadata": {},
   "outputs": [],
   "source": [
    "iso_theta_out = {}\n",
    "iso_eta_out = {}\n",
    "full_theta_out = {}\n",
    "full_eta_out = {}\n",
    "\n",
    "read_frame(iso_fn, iso_theta_out, iso_eta_out)\n",
    "read_frame(full_fn, full_theta_out, full_eta_out)\n",
    "\n",
    "dic_name = {'iso_theta': iso_theta_out,\n",
    "           'iso_eta': iso_eta_out,\n",
    "           'full_theta': full_theta_out,\n",
    "           'full_eta': full_eta_out}\n",
    "\n",
    "for i in ['iso', 'full']:\n",
    "    for j in ['theta', 'eta']:\n",
    "        fn = \"./%s_%s.txt\" %(i, j)\n",
    "        dic = '%s_%s' %(i, j)\n",
    "        wrtie_dic_to_file(dic_name[dic], fn)"
   ]
  },
  {
   "cell_type": "code",
   "execution_count": null,
   "metadata": {
    "collapsed": true,
    "jupyter": {
     "outputs_hidden": true
    }
   },
   "outputs": [],
   "source": []
  }
 ],
 "metadata": {
  "kernelspec": {
   "display_name": "Python 3",
   "language": "python",
   "name": "python3"
  },
  "language_info": {
   "codemirror_mode": {
    "name": "ipython",
    "version": 3
   },
   "file_extension": ".py",
   "mimetype": "text/x-python",
   "name": "python",
   "nbconvert_exporter": "python",
   "pygments_lexer": "ipython3",
   "version": "3.7.6"
  }
 },
 "nbformat": 4,
 "nbformat_minor": 4
}
